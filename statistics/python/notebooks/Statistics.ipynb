{
 "cells": [
  {
   "cell_type": "code",
   "execution_count": 3,
   "id": "respective-angle",
   "metadata": {},
   "outputs": [
    {
     "data": {
      "text/plain": [
       "'3.7.9 (default, Jan 24 2021, 23:57:56) \\n[GCC 10.2.0]'"
      ]
     },
     "execution_count": 3,
     "metadata": {},
     "output_type": "execute_result"
    }
   ],
   "source": [
    "%matplotlib inline\n",
    "import sys\n",
    "sys.version"
   ]
  },
  {
   "cell_type": "code",
   "execution_count": 4,
   "id": "geological-vietnam",
   "metadata": {},
   "outputs": [],
   "source": [
    "import numpy as np\n",
    "import pandas as pd\n",
    "import matplotlib.pyplot as plt\n",
    "import seaborn as sns\n",
    "from pandas import json_normalize\n",
    "import json\n",
    "from matplotlib.ticker import MaxNLocator"
   ]
  },
  {
   "cell_type": "code",
   "execution_count": 251,
   "id": "ef41af41",
   "metadata": {},
   "outputs": [],
   "source": [
    "filename = \"../../../results/2021-06-02T15:10:36_inv_2cpus_30000_20_90000_30000_80.json\"\n",
    "\n",
    "class dotdict(dict):\n",
    "    \"\"\"dot.notation access to dictionary attributes\"\"\"\n",
    "    __getattr__ = dict.get\n",
    "    __setattr__ = dict.__setitem__\n",
    "    __delattr__ = dict.__delitem__\n",
    "\n",
    "ps = filename.split(\"_\")\n",
    "trps = dotdict({\n",
    "    'p0': int(ps[3])/1000,\n",
    "    'p0t': int(ps[4]),\n",
    "    'p1': int(ps[5])/1000,\n",
    "    'p2': int(ps[6])/1000,\n",
    "    \"p2t\": int(ps[7].replace(\".json\", \"\"))\n",
    "})"
   ]
  },
  {
   "cell_type": "code",
   "execution_count": 252,
   "id": "entitled-begin",
   "metadata": {},
   "outputs": [],
   "source": [
    "dict_for_colors = {}\n",
    "get_counter_of_pid_list = []\n",
    "available_colors = ['g','r','c','m','y','k']*1000000\n",
    "\n",
    "def assign_color_to_hostname_pid(hostname, pid) -> str:\n",
    "    key = hostname + pid\n",
    "    if not key in dict_for_colors:\n",
    "        dict_for_colors[key] = available_colors[len(dict_for_colors)]\n",
    "    return dict_for_colors[key]\n",
    "\n",
    "def get_counter_of_pid(pid) -> int:\n",
    "    try:\n",
    "        val =  get_counter_of_pid_list.index(pid)\n",
    "        return val\n",
    "    except Exception:\n",
    "        get_counter_of_pid_list.append(pid)\n",
    "        return get_counter_of_pid_list.index(pid)"
   ]
  },
  {
   "cell_type": "code",
   "execution_count": 253,
   "id": "01e4da32",
   "metadata": {},
   "outputs": [
    {
     "data": {
      "text/plain": [
       "Index(['inst_id', 'acc_color', 'dlat', 'rlat', 'failed', 'end', 'start',\n",
       "       'inv.configuration', 'inv.params.callbackUrl', 'inv.params.payload',\n",
       "       'inv.params.payload_reference.bucket.accessKey',\n",
       "       'inv.params.payload_reference.bucket.bucketName',\n",
       "       'inv.params.payload_reference.bucket.endpoint',\n",
       "       'inv.params.payload_reference.bucket.secretKey',\n",
       "       'inv.params.payload_reference.file', 'inv.params.payload_type',\n",
       "       'inv.params.resultBucket.accessKey',\n",
       "       'inv.params.resultBucket.bucketName',\n",
       "       'inv.params.resultBucket.endpoint', 'inv.params.resultBucket.secretKey',\n",
       "       'inv.runtime', 'result.accelerator', 'result.amount',\n",
       "       'result.end_computation', 'result.metadata.inference_ms',\n",
       "       'result.metadata.hostname', 'result.metadata.start',\n",
       "       'result.metadata.end', 'result.pid', 'result.request', 'result.result',\n",
       "       'result.result_type', 'result.start_computation', 'result'],\n",
       "      dtype='object')"
      ]
     },
     "execution_count": 253,
     "metadata": {},
     "output_type": "execute_result"
    }
   ],
   "source": [
    "with open(filename) as f:\n",
    "    d = json.load(f)\n",
    "data = json_normalize(d)\n",
    "\n",
    "failed = [end == -1 for end in data['end']]\n",
    "data.insert(0, \"failed\", failed)\n",
    "\n",
    "min = data.start.min()\n",
    "data.start = data.start - min\n",
    "data.end = data.end - min\n",
    "data['result.start_computation'] = data['result.start_computation'] - min\n",
    "data['result.end_computation'] = data['result.end_computation'] - min\n",
    "data['result.metadata.start'] = data['result.metadata.start'] - min\n",
    "data['result.metadata.end'] = data['result.metadata.end'] - min\n",
    "\n",
    "# End to End Latency\n",
    "data.insert(0,\"rlat\",data.end - data.start)\n",
    "\n",
    "# Distr\n",
    "data.insert(0, \"dlat\", data.rlat - data['result.metadata.inference_ms'])\n",
    "\n",
    "# (semi-)unique color per runtime instance\n",
    "acc_color = [assign_color_to_hostname_pid(hostname, pid) for hostname,pid in zip(data['result.metadata.hostname'], data['result.pid'])]\n",
    "data.insert(0,\"acc_color\", acc_color)\n",
    "\n",
    "# unique id for every pid, starting with 0 (may be used as y-axis in some images)\n",
    "inst_id = [get_counter_of_pid(pid) for pid in data['result.pid']]\n",
    "data.insert(0, \"inst_id\", inst_id)\n",
    "\n",
    "data.columns"
   ]
  },
  {
   "cell_type": "code",
   "execution_count": 254,
   "id": "66f8a5fb",
   "metadata": {},
   "outputs": [
    {
     "data": {
      "text/plain": [
       "0       localhost.localdomain\n",
       "1              sandybridge-ep\n",
       "2              sandybridge-ep\n",
       "3              sandybridge-ep\n",
       "4       localhost.localdomain\n",
       "                ...          \n",
       "7465                      NaN\n",
       "7466                      NaN\n",
       "7467                      NaN\n",
       "7468                      NaN\n",
       "7469                      NaN\n",
       "Name: result.metadata.hostname, Length: 7470, dtype: object"
      ]
     },
     "execution_count": 254,
     "metadata": {},
     "output_type": "execute_result"
    }
   ],
   "source": [
    "data['result.metadata.hostname']"
   ]
  },
  {
   "cell_type": "code",
   "execution_count": 255,
   "id": "fc491a31",
   "metadata": {},
   "outputs": [
    {
     "name": "stdout",
     "output_type": "stream",
     "text": [
      "Number of failed invocations: 1074\n"
     ]
    },
    {
     "data": {
      "text/html": [
       "<div>\n",
       "<style scoped>\n",
       "    .dataframe tbody tr th:only-of-type {\n",
       "        vertical-align: middle;\n",
       "    }\n",
       "\n",
       "    .dataframe tbody tr th {\n",
       "        vertical-align: top;\n",
       "    }\n",
       "\n",
       "    .dataframe thead th {\n",
       "        text-align: right;\n",
       "    }\n",
       "</style>\n",
       "<table border=\"1\" class=\"dataframe\">\n",
       "  <thead>\n",
       "    <tr style=\"text-align: right;\">\n",
       "      <th></th>\n",
       "      <th>inst_id</th>\n",
       "      <th>acc_color</th>\n",
       "      <th>dlat</th>\n",
       "      <th>rlat</th>\n",
       "      <th>failed</th>\n",
       "      <th>end</th>\n",
       "      <th>start</th>\n",
       "      <th>inv.configuration</th>\n",
       "      <th>inv.params.callbackUrl</th>\n",
       "      <th>inv.params.payload</th>\n",
       "      <th>...</th>\n",
       "      <th>result.metadata.inference_ms</th>\n",
       "      <th>result.metadata.hostname</th>\n",
       "      <th>result.metadata.start</th>\n",
       "      <th>result.metadata.end</th>\n",
       "      <th>result.pid</th>\n",
       "      <th>result.request</th>\n",
       "      <th>result.result</th>\n",
       "      <th>result.result_type</th>\n",
       "      <th>result.start_computation</th>\n",
       "      <th>result</th>\n",
       "    </tr>\n",
       "  </thead>\n",
       "  <tbody>\n",
       "    <tr>\n",
       "      <th>1605</th>\n",
       "      <td>17</td>\n",
       "      <td>k</td>\n",
       "      <td>NaN</td>\n",
       "      <td>-1622639268408</td>\n",
       "      <td>True</td>\n",
       "      <td>-1622639206166</td>\n",
       "      <td>62242</td>\n",
       "      <td>test|tinyyolov2-7.onnx</td>\n",
       "      <td>localhost:3358/1gTUkaY8MA</td>\n",
       "      <td></td>\n",
       "      <td>...</td>\n",
       "      <td>NaN</td>\n",
       "      <td>NaN</td>\n",
       "      <td>NaN</td>\n",
       "      <td>NaN</td>\n",
       "      <td>NaN</td>\n",
       "      <td>NaN</td>\n",
       "      <td>NaN</td>\n",
       "      <td>NaN</td>\n",
       "      <td>NaN</td>\n",
       "      <td>NaN</td>\n",
       "    </tr>\n",
       "    <tr>\n",
       "      <th>1756</th>\n",
       "      <td>17</td>\n",
       "      <td>g</td>\n",
       "      <td>NaN</td>\n",
       "      <td>-1622639272183</td>\n",
       "      <td>True</td>\n",
       "      <td>-1622639206166</td>\n",
       "      <td>66017</td>\n",
       "      <td>test|tinyyolov2-7.onnx</td>\n",
       "      <td>localhost:3358/Sv5miH6PRu</td>\n",
       "      <td></td>\n",
       "      <td>...</td>\n",
       "      <td>NaN</td>\n",
       "      <td>NaN</td>\n",
       "      <td>NaN</td>\n",
       "      <td>NaN</td>\n",
       "      <td>NaN</td>\n",
       "      <td>NaN</td>\n",
       "      <td>NaN</td>\n",
       "      <td>NaN</td>\n",
       "      <td>NaN</td>\n",
       "      <td>NaN</td>\n",
       "    </tr>\n",
       "    <tr>\n",
       "      <th>1866</th>\n",
       "      <td>17</td>\n",
       "      <td>r</td>\n",
       "      <td>NaN</td>\n",
       "      <td>-1622639274392</td>\n",
       "      <td>True</td>\n",
       "      <td>-1622639206166</td>\n",
       "      <td>68226</td>\n",
       "      <td>test|tinyyolov2-7.onnx</td>\n",
       "      <td>localhost:3358/pExClTfm7E</td>\n",
       "      <td></td>\n",
       "      <td>...</td>\n",
       "      <td>NaN</td>\n",
       "      <td>NaN</td>\n",
       "      <td>NaN</td>\n",
       "      <td>NaN</td>\n",
       "      <td>NaN</td>\n",
       "      <td>NaN</td>\n",
       "      <td>NaN</td>\n",
       "      <td>NaN</td>\n",
       "      <td>NaN</td>\n",
       "      <td>NaN</td>\n",
       "    </tr>\n",
       "    <tr>\n",
       "      <th>2031</th>\n",
       "      <td>17</td>\n",
       "      <td>c</td>\n",
       "      <td>NaN</td>\n",
       "      <td>-1622639278184</td>\n",
       "      <td>True</td>\n",
       "      <td>-1622639206166</td>\n",
       "      <td>72018</td>\n",
       "      <td>test|tinyyolov2-7.onnx</td>\n",
       "      <td>localhost:3358/sCyQigeLvE</td>\n",
       "      <td></td>\n",
       "      <td>...</td>\n",
       "      <td>NaN</td>\n",
       "      <td>NaN</td>\n",
       "      <td>NaN</td>\n",
       "      <td>NaN</td>\n",
       "      <td>NaN</td>\n",
       "      <td>NaN</td>\n",
       "      <td>NaN</td>\n",
       "      <td>NaN</td>\n",
       "      <td>NaN</td>\n",
       "      <td>NaN</td>\n",
       "    </tr>\n",
       "    <tr>\n",
       "      <th>2036</th>\n",
       "      <td>17</td>\n",
       "      <td>m</td>\n",
       "      <td>NaN</td>\n",
       "      <td>-1622639278209</td>\n",
       "      <td>True</td>\n",
       "      <td>-1622639206166</td>\n",
       "      <td>72043</td>\n",
       "      <td>test|tinyyolov2-7.onnx</td>\n",
       "      <td>localhost:3358/F0db91TvgA</td>\n",
       "      <td></td>\n",
       "      <td>...</td>\n",
       "      <td>NaN</td>\n",
       "      <td>NaN</td>\n",
       "      <td>NaN</td>\n",
       "      <td>NaN</td>\n",
       "      <td>NaN</td>\n",
       "      <td>NaN</td>\n",
       "      <td>NaN</td>\n",
       "      <td>NaN</td>\n",
       "      <td>NaN</td>\n",
       "      <td>NaN</td>\n",
       "    </tr>\n",
       "    <tr>\n",
       "      <th>...</th>\n",
       "      <td>...</td>\n",
       "      <td>...</td>\n",
       "      <td>...</td>\n",
       "      <td>...</td>\n",
       "      <td>...</td>\n",
       "      <td>...</td>\n",
       "      <td>...</td>\n",
       "      <td>...</td>\n",
       "      <td>...</td>\n",
       "      <td>...</td>\n",
       "      <td>...</td>\n",
       "      <td>...</td>\n",
       "      <td>...</td>\n",
       "      <td>...</td>\n",
       "      <td>...</td>\n",
       "      <td>...</td>\n",
       "      <td>...</td>\n",
       "      <td>...</td>\n",
       "      <td>...</td>\n",
       "      <td>...</td>\n",
       "      <td>...</td>\n",
       "    </tr>\n",
       "    <tr>\n",
       "      <th>7465</th>\n",
       "      <td>17</td>\n",
       "      <td>g</td>\n",
       "      <td>NaN</td>\n",
       "      <td>-1622639356380</td>\n",
       "      <td>True</td>\n",
       "      <td>-1622639206166</td>\n",
       "      <td>150214</td>\n",
       "      <td>test|tinyyolov2-7.onnx</td>\n",
       "      <td>localhost:3358/1EQj8w0cb3</td>\n",
       "      <td></td>\n",
       "      <td>...</td>\n",
       "      <td>NaN</td>\n",
       "      <td>NaN</td>\n",
       "      <td>NaN</td>\n",
       "      <td>NaN</td>\n",
       "      <td>NaN</td>\n",
       "      <td>NaN</td>\n",
       "      <td>NaN</td>\n",
       "      <td>NaN</td>\n",
       "      <td>NaN</td>\n",
       "      <td>NaN</td>\n",
       "    </tr>\n",
       "    <tr>\n",
       "      <th>7466</th>\n",
       "      <td>17</td>\n",
       "      <td>r</td>\n",
       "      <td>NaN</td>\n",
       "      <td>-1622639356379</td>\n",
       "      <td>True</td>\n",
       "      <td>-1622639206166</td>\n",
       "      <td>150213</td>\n",
       "      <td>test|tinyyolov2-7.onnx</td>\n",
       "      <td>localhost:3358/wmG4UkX3Fl</td>\n",
       "      <td></td>\n",
       "      <td>...</td>\n",
       "      <td>NaN</td>\n",
       "      <td>NaN</td>\n",
       "      <td>NaN</td>\n",
       "      <td>NaN</td>\n",
       "      <td>NaN</td>\n",
       "      <td>NaN</td>\n",
       "      <td>NaN</td>\n",
       "      <td>NaN</td>\n",
       "      <td>NaN</td>\n",
       "      <td>NaN</td>\n",
       "    </tr>\n",
       "    <tr>\n",
       "      <th>7467</th>\n",
       "      <td>17</td>\n",
       "      <td>c</td>\n",
       "      <td>NaN</td>\n",
       "      <td>-1622639356387</td>\n",
       "      <td>True</td>\n",
       "      <td>-1622639206166</td>\n",
       "      <td>150221</td>\n",
       "      <td>test|tinyyolov2-7.onnx</td>\n",
       "      <td>localhost:3358/wy1pfm1uVt</td>\n",
       "      <td></td>\n",
       "      <td>...</td>\n",
       "      <td>NaN</td>\n",
       "      <td>NaN</td>\n",
       "      <td>NaN</td>\n",
       "      <td>NaN</td>\n",
       "      <td>NaN</td>\n",
       "      <td>NaN</td>\n",
       "      <td>NaN</td>\n",
       "      <td>NaN</td>\n",
       "      <td>NaN</td>\n",
       "      <td>NaN</td>\n",
       "    </tr>\n",
       "    <tr>\n",
       "      <th>7468</th>\n",
       "      <td>17</td>\n",
       "      <td>m</td>\n",
       "      <td>NaN</td>\n",
       "      <td>-1622639356387</td>\n",
       "      <td>True</td>\n",
       "      <td>-1622639206166</td>\n",
       "      <td>150221</td>\n",
       "      <td>test|tinyyolov2-7.onnx</td>\n",
       "      <td>localhost:3358/4iBxvDbMmV</td>\n",
       "      <td></td>\n",
       "      <td>...</td>\n",
       "      <td>NaN</td>\n",
       "      <td>NaN</td>\n",
       "      <td>NaN</td>\n",
       "      <td>NaN</td>\n",
       "      <td>NaN</td>\n",
       "      <td>NaN</td>\n",
       "      <td>NaN</td>\n",
       "      <td>NaN</td>\n",
       "      <td>NaN</td>\n",
       "      <td>NaN</td>\n",
       "    </tr>\n",
       "    <tr>\n",
       "      <th>7469</th>\n",
       "      <td>17</td>\n",
       "      <td>y</td>\n",
       "      <td>NaN</td>\n",
       "      <td>-1622639356387</td>\n",
       "      <td>True</td>\n",
       "      <td>-1622639206166</td>\n",
       "      <td>150221</td>\n",
       "      <td>test|tinyyolov2-7.onnx</td>\n",
       "      <td>localhost:3358/uQg34hCQUK</td>\n",
       "      <td></td>\n",
       "      <td>...</td>\n",
       "      <td>NaN</td>\n",
       "      <td>NaN</td>\n",
       "      <td>NaN</td>\n",
       "      <td>NaN</td>\n",
       "      <td>NaN</td>\n",
       "      <td>NaN</td>\n",
       "      <td>NaN</td>\n",
       "      <td>NaN</td>\n",
       "      <td>NaN</td>\n",
       "      <td>NaN</td>\n",
       "    </tr>\n",
       "  </tbody>\n",
       "</table>\n",
       "<p>1074 rows × 34 columns</p>\n",
       "</div>"
      ],
      "text/plain": [
       "      inst_id acc_color  dlat           rlat  failed            end   start  \\\n",
       "1605       17         k   NaN -1622639268408    True -1622639206166   62242   \n",
       "1756       17         g   NaN -1622639272183    True -1622639206166   66017   \n",
       "1866       17         r   NaN -1622639274392    True -1622639206166   68226   \n",
       "2031       17         c   NaN -1622639278184    True -1622639206166   72018   \n",
       "2036       17         m   NaN -1622639278209    True -1622639206166   72043   \n",
       "...       ...       ...   ...            ...     ...            ...     ...   \n",
       "7465       17         g   NaN -1622639356380    True -1622639206166  150214   \n",
       "7466       17         r   NaN -1622639356379    True -1622639206166  150213   \n",
       "7467       17         c   NaN -1622639356387    True -1622639206166  150221   \n",
       "7468       17         m   NaN -1622639356387    True -1622639206166  150221   \n",
       "7469       17         y   NaN -1622639356387    True -1622639206166  150221   \n",
       "\n",
       "           inv.configuration     inv.params.callbackUrl inv.params.payload  \\\n",
       "1605  test|tinyyolov2-7.onnx  localhost:3358/1gTUkaY8MA                      \n",
       "1756  test|tinyyolov2-7.onnx  localhost:3358/Sv5miH6PRu                      \n",
       "1866  test|tinyyolov2-7.onnx  localhost:3358/pExClTfm7E                      \n",
       "2031  test|tinyyolov2-7.onnx  localhost:3358/sCyQigeLvE                      \n",
       "2036  test|tinyyolov2-7.onnx  localhost:3358/F0db91TvgA                      \n",
       "...                      ...                        ...                ...   \n",
       "7465  test|tinyyolov2-7.onnx  localhost:3358/1EQj8w0cb3                      \n",
       "7466  test|tinyyolov2-7.onnx  localhost:3358/wmG4UkX3Fl                      \n",
       "7467  test|tinyyolov2-7.onnx  localhost:3358/wy1pfm1uVt                      \n",
       "7468  test|tinyyolov2-7.onnx  localhost:3358/4iBxvDbMmV                      \n",
       "7469  test|tinyyolov2-7.onnx  localhost:3358/uQg34hCQUK                      \n",
       "\n",
       "      ... result.metadata.inference_ms result.metadata.hostname  \\\n",
       "1605  ...                          NaN                      NaN   \n",
       "1756  ...                          NaN                      NaN   \n",
       "1866  ...                          NaN                      NaN   \n",
       "2031  ...                          NaN                      NaN   \n",
       "2036  ...                          NaN                      NaN   \n",
       "...   ...                          ...                      ...   \n",
       "7465  ...                          NaN                      NaN   \n",
       "7466  ...                          NaN                      NaN   \n",
       "7467  ...                          NaN                      NaN   \n",
       "7468  ...                          NaN                      NaN   \n",
       "7469  ...                          NaN                      NaN   \n",
       "\n",
       "     result.metadata.start result.metadata.end result.pid result.request  \\\n",
       "1605                   NaN                 NaN        NaN            NaN   \n",
       "1756                   NaN                 NaN        NaN            NaN   \n",
       "1866                   NaN                 NaN        NaN            NaN   \n",
       "2031                   NaN                 NaN        NaN            NaN   \n",
       "2036                   NaN                 NaN        NaN            NaN   \n",
       "...                    ...                 ...        ...            ...   \n",
       "7465                   NaN                 NaN        NaN            NaN   \n",
       "7466                   NaN                 NaN        NaN            NaN   \n",
       "7467                   NaN                 NaN        NaN            NaN   \n",
       "7468                   NaN                 NaN        NaN            NaN   \n",
       "7469                   NaN                 NaN        NaN            NaN   \n",
       "\n",
       "     result.result result.result_type result.start_computation result  \n",
       "1605           NaN                NaN                      NaN    NaN  \n",
       "1756           NaN                NaN                      NaN    NaN  \n",
       "1866           NaN                NaN                      NaN    NaN  \n",
       "2031           NaN                NaN                      NaN    NaN  \n",
       "2036           NaN                NaN                      NaN    NaN  \n",
       "...            ...                ...                      ...    ...  \n",
       "7465           NaN                NaN                      NaN    NaN  \n",
       "7466           NaN                NaN                      NaN    NaN  \n",
       "7467           NaN                NaN                      NaN    NaN  \n",
       "7468           NaN                NaN                      NaN    NaN  \n",
       "7469           NaN                NaN                      NaN    NaN  \n",
       "\n",
       "[1074 rows x 34 columns]"
      ]
     },
     "execution_count": 255,
     "metadata": {},
     "output_type": "execute_result"
    }
   ],
   "source": [
    "print('Number of failed invocations:', len(data.loc[data['failed'] == True].index))\n",
    "data.loc[data['failed'] == True]"
   ]
  },
  {
   "cell_type": "code",
   "execution_count": 256,
   "id": "234f9891",
   "metadata": {},
   "outputs": [],
   "source": [
    "data = data.loc[data['failed'] == False]"
   ]
  },
  {
   "cell_type": "code",
   "execution_count": 257,
   "id": "32a64c47",
   "metadata": {},
   "outputs": [
    {
     "name": "stdout",
     "output_type": "stream",
     "text": [
      "Used Runtime Instances and when they were active\n"
     ]
    },
    {
     "data": {
      "image/png": "[encoded data removed]",
      "text/plain": [
       "<Figure size 432x288 with 1 Axes>"
      ]
     },
     "metadata": {
      "needs_background": "light"
     },
     "output_type": "display_data"
    }
   ],
   "source": [
    "#plt.hlines(y=[i-0.2 for i in pid_counter], xmin=invokes, xmax=ends)\n",
    "plt.hlines(y=data.inst_id, xmin=data['result.start_computation'], xmax=data['result.end_computation'], colors=data.acc_color, linestyle=\"solid\")\n",
    "plt.scatter(data.start, data.inst_id)\n",
    "print(\"Used Runtime Instances and when they were active\")"
   ]
  },
  {
   "cell_type": "code",
   "execution_count": 258,
   "id": "17641f4c",
   "metadata": {},
   "outputs": [
    {
     "name": "stdout",
     "output_type": "stream",
     "text": [
      "y=sequentially numbered invocations; blueDot=creation timestamp of invocation; line=working time (color=pid-code)\n"
     ]
    },
    {
     "data": {
      "image/png": "[encoded data removed]",
      "text/plain": [
       "<Figure size 432x288 with 1 Axes>"
      ]
     },
     "metadata": {
      "needs_background": "light"
     },
     "output_type": "display_data"
    }
   ],
   "source": [
    "plt.scatter(data.start, data.index, alpha=0.3, linewidths=0.2, edgecolors='none')\n",
    "plt.hlines(y=data.index, xmin=data['result.start_computation'], xmax=data['result.end_computation'], color=data.acc_color, lw=3)\n",
    "print(\"y=sequentially numbered invocations; blueDot=creation timestamp of invocation; line=working time (color=pid-code)\")"
   ]
  },
  {
   "cell_type": "code",
   "execution_count": 259,
   "id": "f5821d48",
   "metadata": {},
   "outputs": [
    {
     "data": {
      "text/plain": [
       "<AxesSubplot:ylabel='Requests [#]'>"
      ]
     },
     "execution_count": 259,
     "metadata": {},
     "output_type": "execute_result"
    },
    {
     "data": {
      "image/png": "[encoded data removed]",
      "text/plain": [
       "<Figure size 432x288 with 2 Axes>"
      ]
     },
     "metadata": {
      "needs_background": "light"
     },
     "output_type": "display_data"
    }
   ],
   "source": [
    "s = 0.9\n",
    "\n",
    "fig = plt.figure()\n",
    "ax = plt.axes()\n",
    "ax.set_ylabel(\"Request Number\")\n",
    "\n",
    "sns.scatterplot(data=data, x='start', y=data.index, s=s)\n",
    "plt.hlines(y=data.index, xmin=data['result.start_computation'], xmax=data['result.end_computation'], color=data['acc_color'], lw=s)\n",
    "plt.scatter(data.end, data.index, s=s)\n",
    "\n",
    "ax2 = ax.twinx()\n",
    "ax2.set_ylabel(\"Requests [#]\")\n",
    "#sns.scatterplot(ax=ax2, data=dat, x=seconds.index, y='rsuccess', label=\"RSuccess\")\n",
    "sns.lineplot(ax=ax2, x=[0,trps.p0,trps.p0+trps.p1,trps.p0+trps.p1+trps.p2], y=[trps.p0t, trps.p0t, trps.p2t, trps.p2t])\n",
    "#ax2.get_legend().remove()\n",
    "#ax2.yaxis.set_major_locator(MaxNLocator(integer=True))\n",
    "\n",
    "#fig.legend(loc=\"upper right\", bbox_to_anchor=(1.2, 0.8))"
   ]
  },
  {
   "cell_type": "code",
   "execution_count": 260,
   "id": "20a64b54",
   "metadata": {},
   "outputs": [
    {
     "name": "stdout",
     "output_type": "stream",
     "text": [
      "results total: \n",
      "Inference: mean=0.0019180469023875701, std=0.0009533206391384015\n",
      "Total Duration: mean=2396.42464040025, std=3434.3225333797886\n",
      "Total Computation (inference+upload): mean=1408.4552845528456, std=2925.4312950593803\n",
      "Time from invocation to start_computation: mean=985.4208880550344, std=1126.3531131798215\n",
      "\n",
      "results tubserver: \n",
      "Inference: mean=0.001694158686354123, std=0.0009816651034138047\n",
      "Total Duration: mean=2992.574049217002, std=3890.4942755945017\n",
      "Total Computation (inference+upload): mean=2006.8599552572707, std=3324.5296839817793\n",
      "Time from invocation to start_computation: mean=983.7897091722596, std=1129.9231094348265\n",
      "\n",
      "results home: \n",
      "Inference: mean=0.0024376628554870034, std=0.0006288294901056352\n",
      "Total Duration: mean=1012.8380062305296, std=1141.4652896652706\n",
      "Total Computation (inference+upload): mean=19.63447559709242, std=102.38375650087934\n",
      "Time from invocation to start_computation: mean=989.2066458982347, std=1118.3067343446003\n",
      "\n"
     ]
    }
   ],
   "source": [
    "def print_stats(df):\n",
    "    inf = df['result.metadata.inference_ms']\n",
    "    print(f'Inference: mean={inf.mean()}, std={inf.std()}')\n",
    "    print(f'Total Duration: mean={df.rlat.mean()}, std={df.rlat.std()}')\n",
    "    com = df['result.end_computation'] - df['result.start_computation']\n",
    "    print(f'Total Computation (inference+upload): mean={com.mean()}, std={com.std()}')\n",
    "    tts = df['result.start_computation'] - df.start\n",
    "    print(f'Time from invocation to start_computation: mean={tts.mean()}, std={tts.std()}')\n",
    "    print()\n",
    "\n",
    "print('results total: ')\n",
    "print_stats(data)\n",
    "print('results tubserver: ')\n",
    "print_stats(data.loc[data['result.metadata.hostname'] == 'sandybridge-ep'])\n",
    "print('results home: ')\n",
    "print_stats(data.loc[data['result.metadata.hostname'] != 'sandybridge-ep'])"
   ]
  },
  {
   "cell_type": "code",
   "execution_count": 261,
   "id": "77a28285",
   "metadata": {},
   "outputs": [],
   "source": [
    "# Plot by RStart\n",
    "#max = int(data.start.max() / 1000) # Rounds down to the latest second\n",
    "#min = 0 # Per definition for the start\n",
    "# Plot by EStart\n",
    "max = int(data['result.start_computation'].max() / 1000)\n",
    "min = int(data['result.start_computation'].min() / 1000)\n",
    "\n",
    "seconds_d = {\n",
    "    # Request-Response Latency\n",
    "    'rlat_min': [],\n",
    "    'rlat_med': [],\n",
    "    'rlat_max': [],\n",
    "    # Execution Start-End Latency\n",
    "    'elat_min': [],\n",
    "    'elat_med': [],\n",
    "    'elat_max': [],\n",
    "    # Number of successful invocations\n",
    "    'rsuccess': []\n",
    "}\n",
    "\n",
    "for i in range(min, max):\n",
    "    t_min = i * 1000\n",
    "    t_max = (i+1) * 1000\n",
    "    # For Host Selection:\n",
    "    # (data['result.metadata.hostname'] != 'sandybridge-ep') & \n",
    "    # Plot by RStart\n",
    "    #curr = data.loc[(data.start >= t_min) & (data.start < t_max)]\n",
    "    # Plot by EStart\n",
    "    curr = data.loc[(data['result.start_computation'] >= t_min) & (data['result.start_computation'] < t_max)]\n",
    "    seconds_d['rlat_min'].append(curr.rlat.min())\n",
    "    seconds_d['rlat_med'].append(curr.rlat.median())\n",
    "    seconds_d['rlat_max'].append(curr.rlat.max())\n",
    "    \n",
    "    seconds_d['elat_min'].append(curr['result.metadata.inference_ms'].min())\n",
    "    seconds_d['elat_med'].append(curr['result.metadata.inference_ms'].median())\n",
    "    seconds_d['elat_max'].append(curr['result.metadata.inference_ms'].max())\n",
    "    \n",
    "    seconds_d['rsuccess'].append(len(curr.loc[curr['failed'] == False].index)) \n",
    "    \n",
    "seconds = pd.DataFrame(seconds_d)"
   ]
  },
  {
   "cell_type": "code",
   "execution_count": 262,
   "id": "3f109269",
   "metadata": {},
   "outputs": [
    {
     "data": {
      "text/plain": [
       "<matplotlib.legend.Legend at 0x7f54f136b950>"
      ]
     },
     "execution_count": 262,
     "metadata": {},
     "output_type": "execute_result"
    },
    {
     "data": {
      "image/png": "[encoded data removed]",
      "text/plain": [
       "<Figure size 432x288 with 2 Axes>"
      ]
     },
     "metadata": {
      "needs_background": "light"
     },
     "output_type": "display_data"
    }
   ],
   "source": [
    "fig = plt.figure()\n",
    "ax = plt.axes()\n",
    "ax.set_ylabel(\"Latency [ms]\")\n",
    "rlat = sns.lineplot(ax=ax, data=seconds, x=seconds.index, y='rlat_med', label=\"RLat\")\n",
    "elat = sns.lineplot(ax=ax, data=seconds, x=seconds.index, y='elat_med', label=\"ELat\")\n",
    "rlats = ax.fill_between(x=seconds.index, y1=seconds['rlat_min'], y2=seconds['rlat_max'], alpha=0.4)\n",
    "elats = ax.fill_between(x=seconds.index, y1=seconds['elat_min'], y2=seconds['elat_max'], alpha=0.4)\n",
    "ax.get_legend().remove()\n",
    "\n",
    "ax2 = ax.twinx()\n",
    "ax2.set_ylabel(\"Requests [#]\")\n",
    "sns.scatterplot(ax=ax2, data=seconds, x=seconds.index, y='rsuccess', label=\"RSuccess\")\n",
    "sns.lineplot(ax=ax2, x=[0,trps.p0,trps.p0+trps.p1,trps.p0+trps.p1+trps.p2], y=[trps.p0t, trps.p0t, trps.p2t, trps.p2t])\n",
    "ax2.get_legend().remove()\n",
    "ax2.yaxis.set_major_locator(MaxNLocator(integer=True))\n",
    "\n",
    "fig.legend(loc=\"upper right\", bbox_to_anchor=(1.2, 0.8))"
   ]
  },
  {
   "cell_type": "code",
   "execution_count": 263,
   "id": "96c550b4",
   "metadata": {},
   "outputs": [
    {
     "data": {
      "text/plain": [
       "2790.0"
      ]
     },
     "execution_count": 263,
     "metadata": {},
     "output_type": "execute_result"
    }
   ],
   "source": [
    "data['result.start_computation'].min()"
   ]
  },
  {
   "cell_type": "code",
   "execution_count": null,
   "id": "6f1d2040",
   "metadata": {},
   "outputs": [],
   "source": []
  },
  {
   "cell_type": "code",
   "execution_count": null,
   "id": "79e9299e",
   "metadata": {},
   "outputs": [],
   "source": []
  }
 ],
 "metadata": {
  "kernelspec": {
   "display_name": "jupyter-venv",
   "language": "python",
   "name": "jupyter-venv"
  },
  "language_info": {
   "codemirror_mode": {
    "name": "ipython",
    "version": 3
   },
   "file_extension": ".py",
   "mimetype": "text/x-python",
   "name": "python",
   "nbconvert_exporter": "python",
   "pygments_lexer": "ipython3",
   "version": "3.7.9"
  }
 },
 "nbformat": 4,
 "nbformat_minor": 5
}
