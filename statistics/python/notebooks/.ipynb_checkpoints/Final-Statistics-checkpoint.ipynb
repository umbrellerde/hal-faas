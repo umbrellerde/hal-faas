{
 "cells": [
  {
   "cell_type": "code",
   "execution_count": 1,
   "id": "256e3c30",
   "metadata": {},
   "outputs": [
    {
     "data": {
      "text/plain": [
       "'3.7.9 (default, Jan 24 2021, 23:57:56) \\n[GCC 10.2.0]'"
      ]
     },
     "execution_count": 1,
     "metadata": {},
     "output_type": "execute_result"
    }
   ],
   "source": [
    "%matplotlib inline\n",
    "import sys\n",
    "sys.version"
   ]
  },
  {
   "cell_type": "code",
   "execution_count": 99,
   "id": "2744ddfa",
   "metadata": {},
   "outputs": [],
   "source": [
    "import numpy as np\n",
    "import pandas as pd\n",
    "import matplotlib.pyplot as plt\n",
    "import seaborn as sns\n",
    "from pandas import json_normalize\n",
    "import json\n",
    "from matplotlib.ticker import MaxNLocator"
   ]
  },
  {
   "cell_type": "code",
   "execution_count": 100,
   "id": "adfb425b",
   "metadata": {},
   "outputs": [],
   "source": [
    "filename = \"../../../final-results/2021-06-19T10:46:44_inv_dualServerAllVPU_30000_1_90000_30000_5.json\"\n",
    "\n",
    "class dotdict(dict):\n",
    "    \"\"\"dot.notation access to dictionary attributes\"\"\"\n",
    "    __getattr__ = dict.get\n",
    "    __setattr__ = dict.__setitem__\n",
    "    __delattr__ = dict.__delitem__\n",
    "\n",
    "ps = filename.split(\"_\")\n",
    "trps = dotdict({\n",
    "    'p0': int(ps[3])/1000,\n",
    "    'p0t': int(ps[4]),\n",
    "    'p1': int(ps[5])/1000,\n",
    "    'p2': int(ps[6])/1000,\n",
    "    \"p2t\": int(ps[7].replace(\".json\", \"\"))\n",
    "})"
   ]
  },
  {
   "cell_type": "code",
   "execution_count": 101,
   "id": "79ab7547",
   "metadata": {},
   "outputs": [],
   "source": [
    "dict_for_colors = {}\n",
    "get_counter_of_pid_list = []\n",
    "available_colors = ['g','r','c','m','y','k']*1000000\n",
    "\n",
    "def assign_color_to_hostname_pid(hostname, pid) -> str:\n",
    "    key = hostname + pid\n",
    "    if not key in dict_for_colors:\n",
    "        dict_for_colors[key] = available_colors[len(dict_for_colors)]\n",
    "    return dict_for_colors[key]\n",
    "\n",
    "def get_uid_of_ri(pid, hostname, accelerator) -> int:\n",
    "    key = str(pid) + str(hostname) + str(accelerator)\n",
    "    try:\n",
    "        val =  get_counter_of_pid_list.index(key)\n",
    "        return val\n",
    "    except Exception:\n",
    "        get_counter_of_pid_list.append(key)\n",
    "        return get_counter_of_pid_list.index(key)\n",
    "\n",
    "def accelerator_type_from_accelerator(acc) -> str:\n",
    "    if acc == \"mycpu\":\n",
    "        return \"cpu\"\n",
    "    if acc == \"0\" or acc == \"1\":\n",
    "        return \"gpu\"\n",
    "    if acc == \"main.py\": ## I don't understand this either\n",
    "        return \"vpu\""
   ]
  },
  {
   "cell_type": "code",
   "execution_count": 102,
   "id": "5f3e9e9f",
   "metadata": {},
   "outputs": [
    {
     "name": "stdout",
     "output_type": "stream",
     "text": [
      "               end          start       inv.configuration  \\\n",
      "0    1624092223186  1624092218348  test|tinyyolov2-7.onnx   \n",
      "1    1624092223176  1624092219347  test|tinyyolov2-7.onnx   \n",
      "2    1624092225774  1624092220348  test|tinyyolov2-7.onnx   \n",
      "3    1624092223166  1624092221347  test|tinyyolov2-7.onnx   \n",
      "4    1624092223195  1624092222347  test|tinyyolov2-7.onnx   \n",
      "..             ...            ...                     ...   \n",
      "443  1624092369620  1624092367385  test|tinyyolov2-7.onnx   \n",
      "444  1624092368653  1624092367385  test|tinyyolov2-7.onnx   \n",
      "445  1624092369232  1624092367385  test|tinyyolov2-7.onnx   \n",
      "446  1624092367974  1624092367385  test|tinyyolov2-7.onnx   \n",
      "447  1624092368006  1624092367385  test|tinyyolov2-7.onnx   \n",
      "\n",
      "        inv.params.callbackUrl inv.params.payload  \\\n",
      "0    localhost:3358/Y0Zd3glxsl                      \n",
      "1    localhost:3358/yjAZ37ck3o                      \n",
      "2    localhost:3358/J69o4hDR1v                      \n",
      "3    localhost:3358/One75wvwBw                      \n",
      "4    localhost:3358/N7sq0c71Og                      \n",
      "..                         ...                ...   \n",
      "443  localhost:3358/ce4EIlwmoe                      \n",
      "444  localhost:3358/smrQsdPxsg                      \n",
      "445  localhost:3358/MVdJWfjrPO                      \n",
      "446  localhost:3358/7TNrZGnKbh                      \n",
      "447  localhost:3358/H9xFGMyDUz                      \n",
      "\n",
      "    inv.params.payload_reference.bucket.accessKey  \\\n",
      "0                                     minio-admin   \n",
      "1                                     minio-admin   \n",
      "2                                     minio-admin   \n",
      "3                                     minio-admin   \n",
      "4                                     minio-admin   \n",
      "..                                            ...   \n",
      "443                                   minio-admin   \n",
      "444                                   minio-admin   \n",
      "445                                   minio-admin   \n",
      "446                                   minio-admin   \n",
      "447                                   minio-admin   \n",
      "\n",
      "    inv.params.payload_reference.bucket.bucketName  \\\n",
      "0                                             test   \n",
      "1                                             test   \n",
      "2                                             test   \n",
      "3                                             test   \n",
      "4                                             test   \n",
      "..                                             ...   \n",
      "443                                           test   \n",
      "444                                           test   \n",
      "445                                           test   \n",
      "446                                           test   \n",
      "447                                           test   \n",
      "\n",
      "    inv.params.payload_reference.bucket.endpoint  \\\n",
      "0                          http://localhost:9000   \n",
      "1                          http://localhost:9000   \n",
      "2                          http://localhost:9000   \n",
      "3                          http://localhost:9000   \n",
      "4                          http://localhost:9000   \n",
      "..                                           ...   \n",
      "443                        http://localhost:9000   \n",
      "444                        http://localhost:9000   \n",
      "445                        http://localhost:9000   \n",
      "446                        http://localhost:9000   \n",
      "447                        http://localhost:9000   \n",
      "\n",
      "    inv.params.payload_reference.bucket.secretKey  \\\n",
      "0                                     minio-admin   \n",
      "1                                     minio-admin   \n",
      "2                                     minio-admin   \n",
      "3                                     minio-admin   \n",
      "4                                     minio-admin   \n",
      "..                                            ...   \n",
      "443                                   minio-admin   \n",
      "444                                   minio-admin   \n",
      "445                                   minio-admin   \n",
      "446                                   minio-admin   \n",
      "447                                   minio-admin   \n",
      "\n",
      "    inv.params.payload_reference.file  ... result.metadata.inference_ms  \\\n",
      "0                     input_0_tiny.pb  ...                  1784.550428   \n",
      "1                     input_0_tiny.pb  ...                  1742.120028   \n",
      "2                     input_0_tiny.pb  ...                  2325.114250   \n",
      "3                     input_0_tiny.pb  ...                    95.342875   \n",
      "4                     input_0_tiny.pb  ...                    87.401867   \n",
      "..                                ...  ...                          ...   \n",
      "443                   input_0_tiny.pb  ...                  1720.799208   \n",
      "444                   input_0_tiny.pb  ...                   757.503986   \n",
      "445                   input_0_tiny.pb  ...                  1705.303431   \n",
      "446                   input_0_tiny.pb  ...                   102.607012   \n",
      "447                   input_0_tiny.pb  ...                   109.780788   \n",
      "\n",
      "    result.metadata.hostname result.metadata.start result.metadata.end  \\\n",
      "0      localhost.localdomain          1.624092e+12        1.624092e+12   \n",
      "1      localhost.localdomain          1.624092e+12        1.624092e+12   \n",
      "2             sandybridge-ep          1.624092e+12        1.624092e+12   \n",
      "3      localhost.localdomain          1.624092e+12        1.624092e+12   \n",
      "4      localhost.localdomain          1.624092e+12        1.624092e+12   \n",
      "..                       ...                   ...                 ...   \n",
      "443           sandybridge-ep          1.624092e+12        1.624092e+12   \n",
      "444           sandybridge-ep          1.624092e+12        1.624092e+12   \n",
      "445           sandybridge-ep          1.624092e+12        1.624092e+12   \n",
      "446    localhost.localdomain          1.624092e+12        1.624092e+12   \n",
      "447    localhost.localdomain          1.624092e+12        1.624092e+12   \n",
      "\n",
      "    result.pid result.request result.result  result.result_type  \\\n",
      "0       799786                 [output.bin]           reference   \n",
      "1       799789                 [output.bin]           reference   \n",
      "2        64908                 [output.bin]           reference   \n",
      "3       799786                 [output.bin]           reference   \n",
      "4       799789                 [output.bin]           reference   \n",
      "..         ...            ...           ...                 ...   \n",
      "443      66864                 [output.bin]           reference   \n",
      "444      66464                 [output.bin]           reference   \n",
      "445      66679                 [output.bin]           reference   \n",
      "446     799950                 [output.bin]           reference   \n",
      "447     799786                 [output.bin]           reference   \n",
      "\n",
      "     result.start_computation  result  \n",
      "0                1.624092e+12     NaN  \n",
      "1                1.624092e+12     NaN  \n",
      "2                1.624092e+12     NaN  \n",
      "3                1.624092e+12     NaN  \n",
      "4                1.624092e+12     NaN  \n",
      "..                        ...     ...  \n",
      "443              1.624092e+12     NaN  \n",
      "444              1.624092e+12     NaN  \n",
      "445              1.624092e+12     NaN  \n",
      "446              1.624092e+12     NaN  \n",
      "447              1.624092e+12     NaN  \n",
      "\n",
      "[448 rows x 29 columns]\n"
     ]
    },
    {
     "data": {
      "text/plain": [
       "Index(['dlat', 'rlat', 'failed', 'end', 'start', 'inv.configuration',\n",
       "       'inv.params.callbackUrl', 'inv.params.payload',\n",
       "       'inv.params.payload_reference.bucket.accessKey',\n",
       "       'inv.params.payload_reference.bucket.bucketName',\n",
       "       'inv.params.payload_reference.bucket.endpoint',\n",
       "       'inv.params.payload_reference.bucket.secretKey',\n",
       "       'inv.params.payload_reference.file', 'inv.params.payload_type',\n",
       "       'inv.params.resultBucket.accessKey',\n",
       "       'inv.params.resultBucket.bucketName',\n",
       "       'inv.params.resultBucket.endpoint', 'inv.params.resultBucket.secretKey',\n",
       "       'inv.runtime', 'result.accelerator', 'result.amount',\n",
       "       'result.end_computation', 'result.metadata.inference_ms',\n",
       "       'result.metadata.hostname', 'result.metadata.start',\n",
       "       'result.metadata.end', 'result.pid', 'result.request', 'result.result',\n",
       "       'result.result_type', 'result.start_computation', 'result'],\n",
       "      dtype='object')"
      ]
     },
     "execution_count": 102,
     "metadata": {},
     "output_type": "execute_result"
    }
   ],
   "source": [
    "with open(filename) as f:\n",
    "    d = json.load(f)\n",
    "data = json_normalize(d)\n",
    "\n",
    "print(data)\n",
    "\n",
    "failed = [end == -1 for end in data['end']]\n",
    "data.insert(0, \"failed\", failed)\n",
    "\n",
    "experiment_start = data.start.min()\n",
    "data.start = data.start - experiment_start\n",
    "data.end = data.end - experiment_start\n",
    "data['result.start_computation'] = data['result.start_computation'] - experiment_start\n",
    "data['result.end_computation'] = data['result.end_computation'] - experiment_start\n",
    "data['result.metadata.start'] = data['result.metadata.start'] - experiment_start\n",
    "data['result.metadata.end'] = data['result.metadata.end'] - experiment_start\n",
    "\n",
    "# End to End Latency\n",
    "data.insert(0,\"rlat\",data.end - data.start)\n",
    "\n",
    "# Distr\n",
    "data.insert(0, \"dlat\", data.rlat - data['result.metadata.inference_ms'])\n",
    "\n",
    "data.columns"
   ]
  },
  {
   "cell_type": "code",
   "execution_count": 103,
   "id": "54051066",
   "metadata": {},
   "outputs": [
    {
     "name": "stdout",
     "output_type": "stream",
     "text": [
      "Number of failed invocations: 1\n"
     ]
    },
    {
     "data": {
      "text/html": [
       "<div>\n",
       "<style scoped>\n",
       "    .dataframe tbody tr th:only-of-type {\n",
       "        vertical-align: middle;\n",
       "    }\n",
       "\n",
       "    .dataframe tbody tr th {\n",
       "        vertical-align: top;\n",
       "    }\n",
       "\n",
       "    .dataframe thead th {\n",
       "        text-align: right;\n",
       "    }\n",
       "</style>\n",
       "<table border=\"1\" class=\"dataframe\">\n",
       "  <thead>\n",
       "    <tr style=\"text-align: right;\">\n",
       "      <th></th>\n",
       "      <th>dlat</th>\n",
       "      <th>rlat</th>\n",
       "      <th>failed</th>\n",
       "      <th>end</th>\n",
       "      <th>start</th>\n",
       "      <th>inv.configuration</th>\n",
       "      <th>inv.params.callbackUrl</th>\n",
       "      <th>inv.params.payload</th>\n",
       "      <th>inv.params.payload_reference.bucket.accessKey</th>\n",
       "      <th>inv.params.payload_reference.bucket.bucketName</th>\n",
       "      <th>...</th>\n",
       "      <th>result.metadata.inference_ms</th>\n",
       "      <th>result.metadata.hostname</th>\n",
       "      <th>result.metadata.start</th>\n",
       "      <th>result.metadata.end</th>\n",
       "      <th>result.pid</th>\n",
       "      <th>result.request</th>\n",
       "      <th>result.result</th>\n",
       "      <th>result.result_type</th>\n",
       "      <th>result.start_computation</th>\n",
       "      <th>result</th>\n",
       "    </tr>\n",
       "  </thead>\n",
       "  <tbody>\n",
       "    <tr>\n",
       "      <th>61</th>\n",
       "      <td>NaN</td>\n",
       "      <td>-1624092269360</td>\n",
       "      <td>True</td>\n",
       "      <td>-1624092218349</td>\n",
       "      <td>51011</td>\n",
       "      <td>test|tinyyolov2-7.onnx</td>\n",
       "      <td>localhost:3358/EL2Xpb0qpN</td>\n",
       "      <td></td>\n",
       "      <td>minio-admin</td>\n",
       "      <td>test</td>\n",
       "      <td>...</td>\n",
       "      <td>NaN</td>\n",
       "      <td>NaN</td>\n",
       "      <td>NaN</td>\n",
       "      <td>NaN</td>\n",
       "      <td>NaN</td>\n",
       "      <td>NaN</td>\n",
       "      <td>NaN</td>\n",
       "      <td>NaN</td>\n",
       "      <td>NaN</td>\n",
       "      <td>NaN</td>\n",
       "    </tr>\n",
       "  </tbody>\n",
       "</table>\n",
       "<p>1 rows × 32 columns</p>\n",
       "</div>"
      ],
      "text/plain": [
       "    dlat           rlat  failed            end  start       inv.configuration  \\\n",
       "61   NaN -1624092269360    True -1624092218349  51011  test|tinyyolov2-7.onnx   \n",
       "\n",
       "       inv.params.callbackUrl inv.params.payload  \\\n",
       "61  localhost:3358/EL2Xpb0qpN                      \n",
       "\n",
       "   inv.params.payload_reference.bucket.accessKey  \\\n",
       "61                                   minio-admin   \n",
       "\n",
       "   inv.params.payload_reference.bucket.bucketName  ...  \\\n",
       "61                                           test  ...   \n",
       "\n",
       "   result.metadata.inference_ms result.metadata.hostname  \\\n",
       "61                          NaN                      NaN   \n",
       "\n",
       "   result.metadata.start result.metadata.end result.pid result.request  \\\n",
       "61                   NaN                 NaN        NaN            NaN   \n",
       "\n",
       "   result.result result.result_type result.start_computation result  \n",
       "61           NaN                NaN                      NaN    NaN  \n",
       "\n",
       "[1 rows x 32 columns]"
      ]
     },
     "execution_count": 103,
     "metadata": {},
     "output_type": "execute_result"
    }
   ],
   "source": [
    "print('Number of failed invocations:', len(data.loc[data['failed'] == True].index))\n",
    "data.loc[data['failed'] == True]"
   ]
  },
  {
   "cell_type": "code",
   "execution_count": 104,
   "id": "ad54b0e3",
   "metadata": {},
   "outputs": [],
   "source": [
    "data = data.loc[data['failed'] == False]"
   ]
  },
  {
   "cell_type": "code",
   "execution_count": 105,
   "id": "ac594c55",
   "metadata": {},
   "outputs": [],
   "source": [
    "# (semi-)unique color per runtime instance\n",
    "acc_color = [assign_color_to_hostname_pid(hostname, pid) for hostname,pid in zip(data['result.metadata.hostname'], data['result.pid'])]\n",
    "data.insert(0,\"acc_color\", acc_color)\n",
    "\n",
    "# unique id for every pid, starting with 0 (may be used as y-axis in some images)\n",
    "inst_id = [get_uid_of_ri(pid, hn, acc) for pid,hn,acc in zip(data['result.pid'],data['result.metadata.hostname'],data['result.accelerator'])]\n",
    "data.insert(0, \"inst_id\", inst_id)\n",
    "\n",
    "# String that identifies the type of accelerator\n",
    "acc_type = [accelerator_type_from_accelerator(acc) for acc in data['result.accelerator']]\n",
    "data.insert(0, \"acc_type\", acc_type)\n",
    "\n",
    "acc_name = [str(hn) + \"-\" + str(acc) for hn,acc in zip(data['result.metadata.hostname'], data['result.accelerator'])]\n",
    "data.insert(0, \"acc_name\", acc_name)"
   ]
  },
  {
   "cell_type": "code",
   "execution_count": 106,
   "id": "f0044d79",
   "metadata": {},
   "outputs": [
    {
     "data": {
      "text/plain": [
       "Index(['acc_name', 'acc_type', 'inst_id', 'acc_color', 'dlat', 'rlat',\n",
       "       'failed', 'end', 'start', 'inv.configuration', 'inv.params.callbackUrl',\n",
       "       'inv.params.payload', 'inv.params.payload_reference.bucket.accessKey',\n",
       "       'inv.params.payload_reference.bucket.bucketName',\n",
       "       'inv.params.payload_reference.bucket.endpoint',\n",
       "       'inv.params.payload_reference.bucket.secretKey',\n",
       "       'inv.params.payload_reference.file', 'inv.params.payload_type',\n",
       "       'inv.params.resultBucket.accessKey',\n",
       "       'inv.params.resultBucket.bucketName',\n",
       "       'inv.params.resultBucket.endpoint', 'inv.params.resultBucket.secretKey',\n",
       "       'inv.runtime', 'result.accelerator', 'result.amount',\n",
       "       'result.end_computation', 'result.metadata.inference_ms',\n",
       "       'result.metadata.hostname', 'result.metadata.start',\n",
       "       'result.metadata.end', 'result.pid', 'result.request', 'result.result',\n",
       "       'result.result_type', 'result.start_computation', 'result'],\n",
       "      dtype='object')"
      ]
     },
     "execution_count": 106,
     "metadata": {},
     "output_type": "execute_result"
    }
   ],
   "source": [
    "data.columns"
   ]
  },
  {
   "cell_type": "code",
   "execution_count": 123,
   "id": "1a79a4dd",
   "metadata": {},
   "outputs": [
    {
     "ename": "KeyError",
     "evalue": "'acc_id'",
     "output_type": "error",
     "traceback": [
      "\u001b[0;31m---------------------------------------------------------------------------\u001b[0m",
      "\u001b[0;31mKeyError\u001b[0m                                  Traceback (most recent call last)",
      "\u001b[0;32m~/.local/share/virtualenvs/python-A7fHczYo/lib/python3.7/site-packages/pandas/core/indexes/base.py\u001b[0m in \u001b[0;36mget_loc\u001b[0;34m(self, key, method, tolerance)\u001b[0m\n\u001b[1;32m   3079\u001b[0m             \u001b[0;32mtry\u001b[0m\u001b[0;34m:\u001b[0m\u001b[0;34m\u001b[0m\u001b[0;34m\u001b[0m\u001b[0m\n\u001b[0;32m-> 3080\u001b[0;31m                 \u001b[0;32mreturn\u001b[0m \u001b[0mself\u001b[0m\u001b[0;34m.\u001b[0m\u001b[0m_engine\u001b[0m\u001b[0;34m.\u001b[0m\u001b[0mget_loc\u001b[0m\u001b[0;34m(\u001b[0m\u001b[0mcasted_key\u001b[0m\u001b[0;34m)\u001b[0m\u001b[0;34m\u001b[0m\u001b[0;34m\u001b[0m\u001b[0m\n\u001b[0m\u001b[1;32m   3081\u001b[0m             \u001b[0;32mexcept\u001b[0m \u001b[0mKeyError\u001b[0m \u001b[0;32mas\u001b[0m \u001b[0merr\u001b[0m\u001b[0;34m:\u001b[0m\u001b[0;34m\u001b[0m\u001b[0;34m\u001b[0m\u001b[0m\n",
      "\u001b[0;32mpandas/_libs/index.pyx\u001b[0m in \u001b[0;36mpandas._libs.index.IndexEngine.get_loc\u001b[0;34m()\u001b[0m\n",
      "\u001b[0;32mpandas/_libs/index.pyx\u001b[0m in \u001b[0;36mpandas._libs.index.IndexEngine.get_loc\u001b[0;34m()\u001b[0m\n",
      "\u001b[0;32mpandas/_libs/index.pyx\u001b[0m in \u001b[0;36mpandas._libs.index.IndexEngine._get_loc_duplicates\u001b[0;34m()\u001b[0m\n",
      "\u001b[0;31mKeyError\u001b[0m: 'acc_id'",
      "\nThe above exception was the direct cause of the following exception:\n",
      "\u001b[0;31mKeyError\u001b[0m                                  Traceback (most recent call last)",
      "\u001b[0;32m<ipython-input-123-9325ed39ef96>\u001b[0m in \u001b[0;36m<module>\u001b[0;34m\u001b[0m\n\u001b[1;32m     24\u001b[0m \u001b[0;34m\u001b[0m\u001b[0m\n\u001b[1;32m     25\u001b[0m \u001b[0mgpu\u001b[0m \u001b[0;34m=\u001b[0m \u001b[0mpd\u001b[0m\u001b[0;34m.\u001b[0m\u001b[0mDataFrame\u001b[0m\u001b[0;34m.\u001b[0m\u001b[0mfrom_dict\u001b[0m\u001b[0;34m(\u001b[0m\u001b[0mgpu_usuage_list\u001b[0m\u001b[0;34m)\u001b[0m\u001b[0;34m.\u001b[0m\u001b[0mexplode\u001b[0m\u001b[0;34m(\u001b[0m\u001b[0;34m'readings'\u001b[0m\u001b[0;34m)\u001b[0m\u001b[0;34m\u001b[0m\u001b[0;34m\u001b[0m\u001b[0m\n\u001b[0;32m---> 26\u001b[0;31m \u001b[0mgpu\u001b[0m\u001b[0;34m[\u001b[0m\u001b[0;34m'readings'\u001b[0m\u001b[0;34m]\u001b[0m\u001b[0;34m[\u001b[0m\u001b[0;36m0\u001b[0m\u001b[0;34m]\u001b[0m\u001b[0;34m[\u001b[0m\u001b[0;34m'acc_id'\u001b[0m\u001b[0;34m]\u001b[0m\u001b[0;34m\u001b[0m\u001b[0;34m\u001b[0m\u001b[0m\n\u001b[0m",
      "\u001b[0;32m~/.local/share/virtualenvs/python-A7fHczYo/lib/python3.7/site-packages/pandas/core/series.py\u001b[0m in \u001b[0;36m__getitem__\u001b[0;34m(self, key)\u001b[0m\n\u001b[1;32m    851\u001b[0m \u001b[0;34m\u001b[0m\u001b[0m\n\u001b[1;32m    852\u001b[0m         \u001b[0;32melif\u001b[0m \u001b[0mkey_is_scalar\u001b[0m\u001b[0;34m:\u001b[0m\u001b[0;34m\u001b[0m\u001b[0;34m\u001b[0m\u001b[0m\n\u001b[0;32m--> 853\u001b[0;31m             \u001b[0;32mreturn\u001b[0m \u001b[0mself\u001b[0m\u001b[0;34m.\u001b[0m\u001b[0m_get_value\u001b[0m\u001b[0;34m(\u001b[0m\u001b[0mkey\u001b[0m\u001b[0;34m)\u001b[0m\u001b[0;34m\u001b[0m\u001b[0;34m\u001b[0m\u001b[0m\n\u001b[0m\u001b[1;32m    854\u001b[0m \u001b[0;34m\u001b[0m\u001b[0m\n\u001b[1;32m    855\u001b[0m         \u001b[0;32mif\u001b[0m \u001b[0mis_hashable\u001b[0m\u001b[0;34m(\u001b[0m\u001b[0mkey\u001b[0m\u001b[0;34m)\u001b[0m\u001b[0;34m:\u001b[0m\u001b[0;34m\u001b[0m\u001b[0;34m\u001b[0m\u001b[0m\n",
      "\u001b[0;32m~/.local/share/virtualenvs/python-A7fHczYo/lib/python3.7/site-packages/pandas/core/series.py\u001b[0m in \u001b[0;36m_get_value\u001b[0;34m(self, label, takeable)\u001b[0m\n\u001b[1;32m    959\u001b[0m \u001b[0;34m\u001b[0m\u001b[0m\n\u001b[1;32m    960\u001b[0m         \u001b[0;31m# Similar to Index.get_value, but we do not fall back to positional\u001b[0m\u001b[0;34m\u001b[0m\u001b[0;34m\u001b[0m\u001b[0;34m\u001b[0m\u001b[0m\n\u001b[0;32m--> 961\u001b[0;31m         \u001b[0mloc\u001b[0m \u001b[0;34m=\u001b[0m \u001b[0mself\u001b[0m\u001b[0;34m.\u001b[0m\u001b[0mindex\u001b[0m\u001b[0;34m.\u001b[0m\u001b[0mget_loc\u001b[0m\u001b[0;34m(\u001b[0m\u001b[0mlabel\u001b[0m\u001b[0;34m)\u001b[0m\u001b[0;34m\u001b[0m\u001b[0;34m\u001b[0m\u001b[0m\n\u001b[0m\u001b[1;32m    962\u001b[0m         \u001b[0;32mreturn\u001b[0m \u001b[0mself\u001b[0m\u001b[0;34m.\u001b[0m\u001b[0mindex\u001b[0m\u001b[0;34m.\u001b[0m\u001b[0m_get_values_for_loc\u001b[0m\u001b[0;34m(\u001b[0m\u001b[0mself\u001b[0m\u001b[0;34m,\u001b[0m \u001b[0mloc\u001b[0m\u001b[0;34m,\u001b[0m \u001b[0mlabel\u001b[0m\u001b[0;34m)\u001b[0m\u001b[0;34m\u001b[0m\u001b[0;34m\u001b[0m\u001b[0m\n\u001b[1;32m    963\u001b[0m \u001b[0;34m\u001b[0m\u001b[0m\n",
      "\u001b[0;32m~/.local/share/virtualenvs/python-A7fHczYo/lib/python3.7/site-packages/pandas/core/indexes/base.py\u001b[0m in \u001b[0;36mget_loc\u001b[0;34m(self, key, method, tolerance)\u001b[0m\n\u001b[1;32m   3080\u001b[0m                 \u001b[0;32mreturn\u001b[0m \u001b[0mself\u001b[0m\u001b[0;34m.\u001b[0m\u001b[0m_engine\u001b[0m\u001b[0;34m.\u001b[0m\u001b[0mget_loc\u001b[0m\u001b[0;34m(\u001b[0m\u001b[0mcasted_key\u001b[0m\u001b[0;34m)\u001b[0m\u001b[0;34m\u001b[0m\u001b[0;34m\u001b[0m\u001b[0m\n\u001b[1;32m   3081\u001b[0m             \u001b[0;32mexcept\u001b[0m \u001b[0mKeyError\u001b[0m \u001b[0;32mas\u001b[0m \u001b[0merr\u001b[0m\u001b[0;34m:\u001b[0m\u001b[0;34m\u001b[0m\u001b[0;34m\u001b[0m\u001b[0m\n\u001b[0;32m-> 3082\u001b[0;31m                 \u001b[0;32mraise\u001b[0m \u001b[0mKeyError\u001b[0m\u001b[0;34m(\u001b[0m\u001b[0mkey\u001b[0m\u001b[0;34m)\u001b[0m \u001b[0;32mfrom\u001b[0m \u001b[0merr\u001b[0m\u001b[0;34m\u001b[0m\u001b[0;34m\u001b[0m\u001b[0m\n\u001b[0m\u001b[1;32m   3083\u001b[0m \u001b[0;34m\u001b[0m\u001b[0m\n\u001b[1;32m   3084\u001b[0m         \u001b[0;32mif\u001b[0m \u001b[0mtolerance\u001b[0m \u001b[0;32mis\u001b[0m \u001b[0;32mnot\u001b[0m \u001b[0;32mNone\u001b[0m\u001b[0;34m:\u001b[0m\u001b[0;34m\u001b[0m\u001b[0;34m\u001b[0m\u001b[0m\n",
      "\u001b[0;31mKeyError\u001b[0m: 'acc_id'"
     ]
    }
   ],
   "source": [
    "# Load the gpu_usuage stuff into a data frame as well\n",
    "gpu_filename = ps[0] + \"_gpuUsuage_halfaas.csv\"\n",
    "gpu_usuage_list = []\n",
    "with open(gpu_filename, \"r\") as f:\n",
    "    d = f.read().splitlines()\n",
    "    elem = {}\n",
    "    for line in d:\n",
    "        if \",\" in line: # Its the accelerator usuage\n",
    "            split = line.split(\",\")\n",
    "            # gpu_bus_id,utilization.gpu,utilization.memory\n",
    "            newO = {\n",
    "                'acc_id': split[0].split(\":\")[1],\n",
    "                'util_gpu': int(split[1]),\n",
    "                'util_memory': int(split[2])  \n",
    "            }\n",
    "            elem['readings'].append(newO)\n",
    "            \n",
    "        else: # Its the timestampt == new object!\n",
    "            if elem: # This is not the first element, so append the previous element\n",
    "                gpu_usuage_list.append(elem)\n",
    "                elem = {}\n",
    "            elem['time'] = (int(line) - experiment_start)/1000 # Time should be relative to start\n",
    "            elem['readings'] = []\n",
    "    \n",
    "gpu = pd.DataFrame.from_dict(gpu_usuage_list).explode('readings')"
   ]
  },
  {
   "cell_type": "code",
   "execution_count": 108,
   "id": "ea289c7f",
   "metadata": {},
   "outputs": [
    {
     "name": "stdout",
     "output_type": "stream",
     "text": [
      "results total: \n",
      "Inference: mean=699.5327840715447, std=760.2250275194588\n",
      "Total Duration: mean=1276.5123042505593, std=938.1323704996048\n",
      "Total Computation (inference+upload): mean=753.9776286353467, std=896.2982139263904\n",
      "Time from invocation to start_computation: mean=455.8814317673378, std=288.6164565720802\n",
      "\n",
      "results for host localhost.localdomain: \n",
      "Inference: mean=153.43354802274908, std=246.4051620724783\n",
      "Total Duration: mean=720.62660944206, std=509.3893763150923\n",
      "Total Computation (inference+upload): mean=181.0, std=359.8134574163827\n",
      "Time from invocation to start_computation: mean=468.6781115879828, std=281.30391328757105\n",
      "\n",
      "results for host sandybridge-ep: \n",
      "Inference: mean=1241.3740210194405, std=710.5038899835014\n",
      "Total Duration: mean=1834.7486338797814, std=968.0624027348562\n",
      "Total Computation (inference+upload): mean=1332.0874316939892, std=930.4469285344499\n",
      "Time from invocation to start_computation: mean=440.26229508196724, std=299.15723575136195\n",
      "\n",
      "results for host 08f41962cc6e: \n",
      "Inference: mean=1605.473933681365, std=323.70214955353345\n",
      "Total Duration: mean=2159.2258064516127, std=534.802188332435\n",
      "Total Computation (inference+upload): mean=1647.8387096774193, std=525.0789208474089\n",
      "Time from invocation to start_computation: mean=451.9032258064516, std=284.1109354740045\n",
      "\n"
     ]
    }
   ],
   "source": [
    "def print_stats(df):\n",
    "    inf = df['result.metadata.inference_ms']\n",
    "    print(f'Inference: mean={inf.mean()}, std={inf.std()}')\n",
    "    print(f'Total Duration: mean={df.rlat.mean()}, std={df.rlat.std()}')\n",
    "    com = df['result.end_computation'] - df['result.start_computation']\n",
    "    print(f'Total Computation (inference+upload): mean={com.mean()}, std={com.std()}')\n",
    "    tts = df['result.start_computation'] - df.start\n",
    "    print(f'Time from invocation to start_computation: mean={tts.mean()}, std={tts.std()}')\n",
    "    print()\n",
    "\n",
    "print('results total: ')\n",
    "print_stats(data)\n",
    "\n",
    "hosts = data['result.metadata.hostname'].unique()\n",
    "\n",
    "for host in hosts:\n",
    "    print(f'results for host {host}: ')\n",
    "    print_stats(data.loc[data['result.metadata.hostname'] == host])\n",
    "\n",
    "#print('results home: ')\n",
    "#print_stats(data.loc[data['result.metadata.hostname'] != 'sandybridge-ep'])"
   ]
  },
  {
   "cell_type": "code",
   "execution_count": 109,
   "id": "e14f1688",
   "metadata": {
    "scrolled": true
   },
   "outputs": [
    {
     "data": {
      "text/plain": [
       "<matplotlib.legend.Legend at 0x7f476e351090>"
      ]
     },
     "execution_count": 109,
     "metadata": {},
     "output_type": "execute_result"
    },
    {
     "data": {
      "image/png": "[encoded data removed]",
      "text/plain": [
       "<Figure size 432x288 with 2 Axes>"
      ]
     },
     "metadata": {
      "needs_background": "light"
     },
     "output_type": "display_data"
    }
   ],
   "source": [
    "fig = plt.figure()\n",
    "ax = plt.axes()\n",
    "ax.set_ylabel(\"ELat [ms]\")\n",
    "ax.set_xlabel(\"Time since start [s]\")\n",
    "sns.countplot(ax=ax, data=data, x='inst_id', hue='acc_name')\n",
    "ax.get_legend().remove()\n",
    "\n",
    "ax2 = ax.twinx()\n",
    "ax2.set_ylabel(\"Requests computed [#]\")\n",
    "sns.pointplot(ax=ax2, data=data, x='inst_id', y='result.metadata.inference_ms', hue='acc_name', join=False)\n",
    "ax2.get_legend().remove()\n",
    "ax2.yaxis.set_major_locator(MaxNLocator(integer=True))\n",
    "\n",
    "fig.legend(loc=\"upper right\")"
   ]
  },
  {
   "cell_type": "code",
   "execution_count": 110,
   "id": "7e9098d4",
   "metadata": {},
   "outputs": [
    {
     "name": "stdout",
     "output_type": "stream",
     "text": [
      "Used Runtime Instances and when they were active\n"
     ]
    },
    {
     "data": {
      "image/png": "[encoded data removed]",
      "text/plain": [
       "<Figure size 432x288 with 1 Axes>"
      ]
     },
     "metadata": {
      "needs_background": "light"
     },
     "output_type": "display_data"
    }
   ],
   "source": [
    "plt.hlines(y=data.inst_id, xmin=data['result.start_computation'], xmax=data['result.end_computation'], colors=data.acc_color, linestyle=\"solid\")\n",
    "plt.scatter(data.start, data.inst_id)\n",
    "print(\"Used Runtime Instances and when they were active\")"
   ]
  },
  {
   "cell_type": "code",
   "execution_count": 111,
   "id": "92c69149",
   "metadata": {},
   "outputs": [],
   "source": [
    "# Plot by RStart\n",
    "max = int(data.start.max() / 1000) # Rounds down to the latest second\n",
    "min = 0 # Per definition for the start\n",
    "# Plot by EStart\n",
    "#max = int(data['result.start_computation'].max() / 1000)\n",
    "#min = int(data['result.start_computation'].min() / 1000)\n",
    "\n",
    "seconds_d = {\n",
    "    # Request-Response Latency\n",
    "    'rlat_min': [],\n",
    "    'rlat_med': [],\n",
    "    'rlat_max': [],\n",
    "    # Execution Start-End Latency\n",
    "    'elat_min': [],\n",
    "    'elat_med': [],\n",
    "    'elat_max': [],\n",
    "    # Number of successful invocations\n",
    "    'rsuccess': []\n",
    "}\n",
    "\n",
    "for i in range(min, max):\n",
    "    t_min = i * 1000\n",
    "    t_max = (i+1) * 1000\n",
    "    # For Host Selection:\n",
    "    # (data['result.metadata.hostname'] != 'sandybridge-ep') & \n",
    "    # Plot by RStart\n",
    "    curr = data.loc[(data.start >= t_min) & (data.start < t_max)]\n",
    "    # Plot by EStart\n",
    "    #curr = data.loc[(data['result.start_computation'] >= t_min) & (data['result.start_computation'] < t_max)]\n",
    "    seconds_d['rlat_min'].append(curr.rlat.min())\n",
    "    seconds_d['rlat_med'].append(curr.rlat.median())\n",
    "    seconds_d['rlat_max'].append(curr.rlat.max())\n",
    "    \n",
    "    seconds_d['elat_min'].append(curr['result.metadata.inference_ms'].min())\n",
    "    seconds_d['elat_med'].append(curr['result.metadata.inference_ms'].median())\n",
    "    seconds_d['elat_max'].append(curr['result.metadata.inference_ms'].max())\n",
    "    \n",
    "    seconds_d['rsuccess'].append(len(curr.loc[curr['failed'] == False].index)) \n",
    "    \n",
    "seconds = pd.DataFrame(seconds_d)"
   ]
  },
  {
   "cell_type": "code",
   "execution_count": 112,
   "id": "2e291119",
   "metadata": {},
   "outputs": [
    {
     "data": {
      "text/plain": [
       "<matplotlib.legend.Legend at 0x7f476e29c310>"
      ]
     },
     "execution_count": 112,
     "metadata": {},
     "output_type": "execute_result"
    },
    {
     "data": {
      "image/png": "[encoded data removed]",
      "text/plain": [
       "<Figure size 432x288 with 2 Axes>"
      ]
     },
     "metadata": {
      "needs_background": "light"
     },
     "output_type": "display_data"
    }
   ],
   "source": [
    "fig = plt.figure()\n",
    "ax = plt.axes()\n",
    "ax.set_ylabel(\"Latency [ms]\")\n",
    "ax.set_xlabel(\"Time since start [s]\")\n",
    "rlat = sns.lineplot(ax=ax, data=seconds, x=seconds.index, y='rlat_med', label=\"RLat\")\n",
    "elat = sns.lineplot(ax=ax, data=seconds, x=seconds.index, y='elat_med', label=\"ELat\")\n",
    "rlats = ax.fill_between(x=seconds.index, y1=seconds['rlat_min'], y2=seconds['rlat_max'], alpha=0.4)\n",
    "elats = ax.fill_between(x=seconds.index, y1=seconds['elat_min'], y2=seconds['elat_max'], alpha=0.4)\n",
    "ax.get_legend().remove()\n",
    "\n",
    "ax2 = ax.twinx()\n",
    "ax2.set_ylabel(\"Requests/s [#]\")\n",
    "sns.scatterplot(ax=ax2, data=seconds, x=seconds.index, y='rsuccess', label=\"RSuccess\", color=\"g\")\n",
    "sns.lineplot(ax=ax2, x=[0,trps.p0,trps.p0+trps.p1,trps.p0+trps.p1+trps.p2], y=[trps.p0t, trps.p0t, trps.p2t, trps.p2t], color=\"g\", label=\"Test plan\")\n",
    "ax2.get_legend().remove()\n",
    "ax2.yaxis.set_major_locator(MaxNLocator(integer=True))\n",
    "\n",
    "fig.legend(loc=\"upper right\", bbox_to_anchor=(1.2, 0.8))"
   ]
  },
  {
   "cell_type": "code",
   "execution_count": 113,
   "id": "5040fc47",
   "metadata": {},
   "outputs": [
    {
     "data": {
      "text/plain": [
       "array([ 0,  1,  2,  3,  4,  5,  6,  7,  8,  9, 10, 11, 12, 13, 14, 15, 16,\n",
       "       17, 18, 19, 20, 21, 22])"
      ]
     },
     "execution_count": 113,
     "metadata": {},
     "output_type": "execute_result"
    }
   ],
   "source": [
    "# Read the gpu+queue util as well\n",
    "util = pd.read_pickle(ps[0])"
   ]
  }
 ],
 "metadata": {
  "kernelspec": {
   "display_name": "jupyter-venv",
   "language": "python",
   "name": "jupyter-venv"
  },
  "language_info": {
   "codemirror_mode": {
    "name": "ipython",
    "version": 3
   },
   "file_extension": ".py",
   "mimetype": "text/x-python",
   "name": "python",
   "nbconvert_exporter": "python",
   "pygments_lexer": "ipython3",
   "version": "3.7.9"
  }
 },
 "nbformat": 4,
 "nbformat_minor": 5
}
