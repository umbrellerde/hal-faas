{
 "cells": [
  {
   "cell_type": "code",
   "execution_count": null,
   "id": "972b613a",
   "metadata": {},
   "outputs": [],
   "source": [
    "# Idea: create a CSV that has fields timestamp,queued,util_gpu1,util_mem1,util_gpu2,util_mem2,util_gpu3,util_mem3\n",
    "gpu_filename = \"../../../final-results/2021-06-19T10:46:44_gpuUsuage_halfaas.csv\"\n",
    "\n",
    "output = {}\n",
    "\n",
    "def addToOutput(timestamp, elem):\n",
    "    if timestamp not in output:\n",
    "        output[timestamp] = {}\n",
    "    for key in elem:\n",
    "        output[timestamp][key] = elem[key]\n",
    "\n",
    "def read2GPUs(output, filename):\n",
    "    with open(filename, \"r\") as f:\n",
    "        d = f.read().splitlines()\n",
    "        elem = {}\n",
    "        while True:\n",
    "            time_l = f.readLine()\n",
    "            if not time_l:\n",
    "                break\n",
    "            gpu1_l = f.readLine()\n",
    "            gpu2_l = f.readLine()\n",
    "            split1 = gpu1_l.split(\",\")\n",
    "            split2 = gpu2_l.split(\",\")\n",
    "            # gpu_bus_id,utilization.gpu,utilization.memory\n",
    "            newO = {\n",
    "                #'timestamp': round(int(time_l)/1000)*1000 # rounded to the next second\n",
    "                'util_gpu1': int(split1[1]),\n",
    "                'util_mem1': int(split1[2]),\n",
    "                'util_gpu2': int(split2[1]),\n",
    "                'util_mem2': int(split2[2])\n",
    "            }\n",
    "            addToOutput(round(int(time_l)/1000)*1000, newO)\n",
    "    \n",
    "gpu = pd.DataFrame.from_dict(gpu_usuage_list).explode('readings')"
   ]
  }
 ],
 "metadata": {
  "kernelspec": {
   "display_name": "jupyter-venv",
   "language": "python",
   "name": "jupyter-venv"
  },
  "language_info": {
   "codemirror_mode": {
    "name": "ipython",
    "version": 3
   },
   "file_extension": ".py",
   "mimetype": "text/x-python",
   "name": "python",
   "nbconvert_exporter": "python",
   "pygments_lexer": "ipython3",
   "version": "3.7.9"
  }
 },
 "nbformat": 4,
 "nbformat_minor": 5
}
