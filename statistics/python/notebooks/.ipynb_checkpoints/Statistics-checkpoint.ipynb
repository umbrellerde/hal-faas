{
 "cells": [
  {
   "cell_type": "code",
   "execution_count": 1,
   "id": "respective-angle",
   "metadata": {},
   "outputs": [
    {
     "data": {
      "text/plain": [
       "'3.7.9 (default, Jan 24 2021, 23:57:56) \\n[GCC 10.2.0]'"
      ]
     },
     "execution_count": 1,
     "metadata": {},
     "output_type": "execute_result"
    }
   ],
   "source": [
    "import sys\n",
    "sys.version"
   ]
  },
  {
   "cell_type": "code",
   "execution_count": 2,
   "id": "geological-vietnam",
   "metadata": {},
   "outputs": [],
   "source": [
    "import numpy as np\n",
    "import pandas as pd\n",
    "import matplotlib.pyplot as plt"
   ]
  },
  {
   "cell_type": "code",
   "execution_count": 3,
   "id": "intimate-apparel",
   "metadata": {},
   "outputs": [],
   "source": [
    "data = pd.read_json(\"data/2021-05-09T20:12:11_inv_smtest.json\")"
   ]
  },
  {
   "cell_type": "code",
   "execution_count": 4,
   "id": "continent-lucas",
   "metadata": {},
   "outputs": [
    {
     "data": {
      "text/html": [
       "<div>\n",
       "<style scoped>\n",
       "    .dataframe tbody tr th:only-of-type {\n",
       "        vertical-align: middle;\n",
       "    }\n",
       "\n",
       "    .dataframe tbody tr th {\n",
       "        vertical-align: top;\n",
       "    }\n",
       "\n",
       "    .dataframe thead th {\n",
       "        text-align: right;\n",
       "    }\n",
       "</style>\n",
       "<table border=\"1\" class=\"dataframe\">\n",
       "  <thead>\n",
       "    <tr style=\"text-align: right;\">\n",
       "      <th></th>\n",
       "      <th>end</th>\n",
       "      <th>inv</th>\n",
       "      <th>result</th>\n",
       "      <th>start</th>\n",
       "    </tr>\n",
       "  </thead>\n",
       "  <tbody>\n",
       "    <tr>\n",
       "      <th>0</th>\n",
       "      <td>1620583823709</td>\n",
       "      <td>{'configuration': 'test|tinyyolov2-7.onnx', 'p...</td>\n",
       "      <td>{'accelerator': '0', 'amount': 450, 'end_compu...</td>\n",
       "      <td>1620583820529</td>\n",
       "    </tr>\n",
       "    <tr>\n",
       "      <th>1</th>\n",
       "      <td>1620583823716</td>\n",
       "      <td>{'configuration': 'test|tinyyolov2-7.onnx', 'p...</td>\n",
       "      <td>{'accelerator': '0', 'amount': 450, 'end_compu...</td>\n",
       "      <td>1620583821529</td>\n",
       "    </tr>\n",
       "    <tr>\n",
       "      <th>2</th>\n",
       "      <td>1620583823723</td>\n",
       "      <td>{'configuration': 'test|tinyyolov2-7.onnx', 'p...</td>\n",
       "      <td>{'accelerator': '0', 'amount': 450, 'end_compu...</td>\n",
       "      <td>1620583822529</td>\n",
       "    </tr>\n",
       "    <tr>\n",
       "      <th>3</th>\n",
       "      <td>1620583824546</td>\n",
       "      <td>{'configuration': 'test|tinyyolov2-7.onnx', 'p...</td>\n",
       "      <td>{'accelerator': '0', 'amount': 450, 'end_compu...</td>\n",
       "      <td>1620583823529</td>\n",
       "    </tr>\n",
       "    <tr>\n",
       "      <th>4</th>\n",
       "      <td>1620583825689</td>\n",
       "      <td>{'configuration': 'test|tinyyolov2-7.onnx', 'p...</td>\n",
       "      <td>{'accelerator': '0', 'amount': 450, 'end_compu...</td>\n",
       "      <td>1620583824529</td>\n",
       "    </tr>\n",
       "    <tr>\n",
       "      <th>...</th>\n",
       "      <td>...</td>\n",
       "      <td>...</td>\n",
       "      <td>...</td>\n",
       "      <td>...</td>\n",
       "    </tr>\n",
       "    <tr>\n",
       "      <th>95</th>\n",
       "      <td>1620583888531</td>\n",
       "      <td>{'configuration': 'test|tinyyolov2-7.onnx', 'p...</td>\n",
       "      <td>{'accelerator': '0', 'amount': 450, 'end_compu...</td>\n",
       "      <td>1620583887539</td>\n",
       "    </tr>\n",
       "    <tr>\n",
       "      <th>96</th>\n",
       "      <td>1620583889644</td>\n",
       "      <td>{'configuration': 'test|tinyyolov2-7.onnx', 'p...</td>\n",
       "      <td>{'accelerator': '0', 'amount': 450, 'end_compu...</td>\n",
       "      <td>1620583888539</td>\n",
       "    </tr>\n",
       "    <tr>\n",
       "      <th>97</th>\n",
       "      <td>1620583889621</td>\n",
       "      <td>{'configuration': 'test|tinyyolov2-7.onnx', 'p...</td>\n",
       "      <td>{'accelerator': '0', 'amount': 450, 'end_compu...</td>\n",
       "      <td>1620583888539</td>\n",
       "    </tr>\n",
       "    <tr>\n",
       "      <th>98</th>\n",
       "      <td>1620583889794</td>\n",
       "      <td>{'configuration': 'test|tinyyolov2-7.onnx', 'p...</td>\n",
       "      <td>{'accelerator': '0', 'amount': 450, 'end_compu...</td>\n",
       "      <td>1620583889540</td>\n",
       "    </tr>\n",
       "    <tr>\n",
       "      <th>99</th>\n",
       "      <td>1620583889756</td>\n",
       "      <td>{'configuration': 'test|tinyyolov2-7.onnx', 'p...</td>\n",
       "      <td>{'accelerator': '0', 'amount': 450, 'end_compu...</td>\n",
       "      <td>1620583889543</td>\n",
       "    </tr>\n",
       "  </tbody>\n",
       "</table>\n",
       "<p>100 rows × 4 columns</p>\n",
       "</div>"
      ],
      "text/plain": [
       "              end                                                inv  \\\n",
       "0   1620583823709  {'configuration': 'test|tinyyolov2-7.onnx', 'p...   \n",
       "1   1620583823716  {'configuration': 'test|tinyyolov2-7.onnx', 'p...   \n",
       "2   1620583823723  {'configuration': 'test|tinyyolov2-7.onnx', 'p...   \n",
       "3   1620583824546  {'configuration': 'test|tinyyolov2-7.onnx', 'p...   \n",
       "4   1620583825689  {'configuration': 'test|tinyyolov2-7.onnx', 'p...   \n",
       "..            ...                                                ...   \n",
       "95  1620583888531  {'configuration': 'test|tinyyolov2-7.onnx', 'p...   \n",
       "96  1620583889644  {'configuration': 'test|tinyyolov2-7.onnx', 'p...   \n",
       "97  1620583889621  {'configuration': 'test|tinyyolov2-7.onnx', 'p...   \n",
       "98  1620583889794  {'configuration': 'test|tinyyolov2-7.onnx', 'p...   \n",
       "99  1620583889756  {'configuration': 'test|tinyyolov2-7.onnx', 'p...   \n",
       "\n",
       "                                               result          start  \n",
       "0   {'accelerator': '0', 'amount': 450, 'end_compu...  1620583820529  \n",
       "1   {'accelerator': '0', 'amount': 450, 'end_compu...  1620583821529  \n",
       "2   {'accelerator': '0', 'amount': 450, 'end_compu...  1620583822529  \n",
       "3   {'accelerator': '0', 'amount': 450, 'end_compu...  1620583823529  \n",
       "4   {'accelerator': '0', 'amount': 450, 'end_compu...  1620583824529  \n",
       "..                                                ...            ...  \n",
       "95  {'accelerator': '0', 'amount': 450, 'end_compu...  1620583887539  \n",
       "96  {'accelerator': '0', 'amount': 450, 'end_compu...  1620583888539  \n",
       "97  {'accelerator': '0', 'amount': 450, 'end_compu...  1620583888539  \n",
       "98  {'accelerator': '0', 'amount': 450, 'end_compu...  1620583889540  \n",
       "99  {'accelerator': '0', 'amount': 450, 'end_compu...  1620583889543  \n",
       "\n",
       "[100 rows x 4 columns]"
      ]
     },
     "execution_count": 4,
     "metadata": {},
     "output_type": "execute_result"
    }
   ],
   "source": [
    "data"
   ]
  },
  {
   "cell_type": "code",
   "execution_count": 5,
   "id": "viral-sleeping",
   "metadata": {},
   "outputs": [
    {
     "data": {
      "text/plain": [
       "{'accelerator': '0',\n",
       " 'amount': 450,\n",
       " 'end_computation': 1620583823120,\n",
       " 'metadata': {'inference_ms': 1132.6484680175781,\n",
       "  'hostname': 'babylon',\n",
       "  'start': 1620583821983.852,\n",
       "  'end': 1620583823116.501},\n",
       " 'pid': '16498',\n",
       " 'request': '',\n",
       " 'result': ['output.bin'],\n",
       " 'result_type': 'reference',\n",
       " 'start_computation': 1620583821142}"
      ]
     },
     "execution_count": 5,
     "metadata": {},
     "output_type": "execute_result"
    }
   ],
   "source": [
    "data.result[0]"
   ]
  },
  {
   "cell_type": "code",
   "execution_count": 6,
   "id": "august-massachusetts",
   "metadata": {},
   "outputs": [
    {
     "data": {
      "text/plain": [
       "numpy.int64"
      ]
     },
     "execution_count": 6,
     "metadata": {},
     "output_type": "execute_result"
    }
   ],
   "source": [
    "min_vals = data.min()\n",
    "min_vals.start\n",
    "type(data.start[0])"
   ]
  },
  {
   "cell_type": "code",
   "execution_count": 7,
   "id": "entitled-begin",
   "metadata": {},
   "outputs": [],
   "source": [
    "dict_for_colors = {}\n",
    "get_counter_of_pid_list = []\n",
    "available_colors = ['g','r','c','m','y','k']*10\n",
    "#available_colors = ['b','g','r','c','m','y','k','tab:blue','tab:orange','tab:green','tab:purple','tab:brown',\n",
    "#                   'b','g','r','c','m','y','k','tab:blue','tab:orange','tab:green','tab:purple','tab:brown',\n",
    "#                   'b','g','r','c','m','y','k','tab:blue','tab:orange','tab:green','tab:purple','tab:brown',\n",
    "#                   'b','g','r','c','m','y','k','tab:blue','tab:orange','tab:green','tab:purple','tab:brown']\n",
    "def assign_color_to_hostname_pid(hostname, pid) -> str:\n",
    "    key = hostname + pid\n",
    "    if not key in dict_for_colors:\n",
    "        dict_for_colors[key] = available_colors[len(dict_for_colors)]\n",
    "    return dict_for_colors[key]\n",
    "\n",
    "def get_counter_of_pid(pid) -> int:\n",
    "    try:\n",
    "        val =  get_counter_of_pid_list.index(pid)\n",
    "        return val\n",
    "    except Exception:\n",
    "        get_counter_of_pid_list.append(pid)\n",
    "        return get_counter_of_pid_list.index(pid)"
   ]
  },
  {
   "cell_type": "code",
   "execution_count": 8,
   "id": "limited-thinking",
   "metadata": {},
   "outputs": [
    {
     "name": "stdout",
     "output_type": "stream",
     "text": [
      "Number of failed invocations: 0\n"
     ]
    }
   ],
   "source": [
    "invokes = []\n",
    "com_starts = []\n",
    "com_ends = []\n",
    "ends = []\n",
    "pids = []\n",
    "accelerator_colors = []\n",
    "infs_ms = []\n",
    "failed_invocations = []\n",
    "pid_counter = []\n",
    "for index, row in data.sort_values(by=['start']).iterrows():\n",
    "    if row.end == -1:\n",
    "        failed_invocations.append(row)\n",
    "        continue\n",
    "    invokes.append(row.start)\n",
    "    ends.append(row.end)\n",
    "    com_starts.append(int(row.result['start_computation']))\n",
    "    com_ends.append(int(row.result['end_computation']))\n",
    "    pids.append(int(row.result['pid']))\n",
    "    infs_ms.append(row.result['metadata']['inference_ms'])\n",
    "    accelerator_colors.append(assign_color_to_hostname_pid(row.result['metadata']['hostname'], row.result['pid']))\n",
    "    pid_counter.append(get_counter_of_pid(row.result['pid']))\n",
    "indices = range(len(invokes))\n",
    "print(f\"Number of failed invocations: {len(failed_invocations)}\")"
   ]
  },
  {
   "cell_type": "code",
   "execution_count": 16,
   "id": "assumed-triangle",
   "metadata": {},
   "outputs": [
    {
     "name": "stdout",
     "output_type": "stream",
     "text": [
      "When was an invocation created (blue dot), who worked on it (y=pid), and when (line=time when accelerator was active)\n"
     ]
    },
    {
     "data": {
      "image/png": "[encoded data removed]",
      "text/plain": [
       "<Figure size 432x288 with 1 Axes>"
      ]
     },
     "metadata": {
      "needs_background": "light"
     },
     "output_type": "display_data"
    }
   ],
   "source": [
    "#plt.scatter(invokes, [pid-7 for pid in pids])\n",
    "plt.hlines(y=pid_counter, xmin=com_starts, xmax=com_ends, colors=accelerator_colors, linestyle=\"solid\")\n",
    "#plt.scatter(pid_counter, invokes)\n",
    "print(\"Used Runtime Instances and when they were active\")\n",
    "plt.show()"
   ]
  },
  {
   "cell_type": "code",
   "execution_count": 14,
   "id": "regulated-serve",
   "metadata": {},
   "outputs": [
    {
     "name": "stdout",
     "output_type": "stream",
     "text": [
      "y=sequentially numbered invocations; blueDot=creation timestamp of invocation; line=working time (color=pid-code)\n"
     ]
    },
    {
     "data": {
      "image/png": "[encoded data removed]",
      "text/plain": [
       "<Figure size 432x288 with 1 Axes>"
      ]
     },
     "metadata": {
      "needs_background": "light"
     },
     "output_type": "display_data"
    }
   ],
   "source": [
    "plt.scatter(invokes, indices, c='#101010')\n",
    "plt.hlines(y=indices, xmin=com_starts, xmax=com_ends, color=accelerator_colors, lw=5)\n",
    "print(\"y=sequentially numbered invocations; blueDot=creation timestamp of invocation; line=working time (color=pid-code)\")\n",
    "plt.show()"
   ]
  },
  {
   "cell_type": "code",
   "execution_count": 45,
   "id": "91d2edf6",
   "metadata": {},
   "outputs": [
    {
     "data": {
      "text/plain": [
       "1620583825541"
      ]
     },
     "execution_count": 45,
     "metadata": {},
     "output_type": "execute_result"
    }
   ],
   "source": [
    "com_starts[4]"
   ]
  },
  {
   "cell_type": "code",
   "execution_count": null,
   "id": "709706a6",
   "metadata": {},
   "outputs": [],
   "source": [
    "c"
   ]
  }
 ],
 "metadata": {
  "kernelspec": {
   "display_name": "jupyter-venv",
   "language": "python",
   "name": "jupyter-venv"
  },
  "language_info": {
   "codemirror_mode": {
    "name": "ipython",
    "version": 3
   },
   "file_extension": ".py",
   "mimetype": "text/x-python",
   "name": "python",
   "nbconvert_exporter": "python",
   "pygments_lexer": "ipython3",
   "version": "3.7.9"
  }
 },
 "nbformat": 4,
 "nbformat_minor": 5
}
